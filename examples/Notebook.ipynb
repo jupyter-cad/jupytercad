{
 "cells": [
  {
   "cell_type": "markdown",
   "id": "1008b547-f396-4960-8a80-118370f0fab1",
   "metadata": {},
   "source": [
    "# JupyterCAD Python API"
   ]
  },
  {
   "cell_type": "markdown",
   "id": "28c64dd8-6b90-4408-bbeb-e5037add1fbc",
   "metadata": {},
   "source": [
    "#### Simple usage"
   ]
  },
  {
   "cell_type": "code",
   "execution_count": null,
   "id": "050e5936-f9e1-44ff-8bc9-a8556d7643ee",
   "metadata": {},
   "outputs": [],
   "source": [
    "from jupytercad import CadDocument"
   ]
  },
  {
   "cell_type": "code",
   "execution_count": null,
   "id": "9821d466-6ae7-418f-aea7-9d67153da7d6",
   "metadata": {},
   "outputs": [],
   "source": [
    "doc = CadDocument()"
   ]
  },
  {
   "cell_type": "code",
   "execution_count": null,
   "id": "e30499f0-6732-4611-a25e-46b27e606b08",
   "metadata": {},
   "outputs": [],
   "source": [
    "doc.add_cone().add_sphere(radius=0.8).cut()"
   ]
  },
  {
   "cell_type": "code",
   "execution_count": null,
   "id": "aca82e6a-7718-4b1e-b762-9fc62b95fae4",
   "metadata": {},
   "outputs": [],
   "source": [
    "doc.objects"
   ]
  },
  {
   "cell_type": "code",
   "execution_count": null,
   "id": "b1d3c3f1-b70b-4b42-a165-d3e1434395c5",
   "metadata": {},
   "outputs": [],
   "source": [
    "doc.add_cylinder(radius=0.5, position=[0, 0, 0.8]).fuse();"
   ]
  },
  {
   "cell_type": "markdown",
   "id": "e072569b-21b8-474c-b7b4-5bf042101e9f",
   "metadata": {},
   "source": [
    "#### Create a gear wheel"
   ]
  },
  {
   "cell_type": "code",
   "execution_count": null,
   "id": "802e38ad-ee7c-4c81-8fed-805abf09a4df",
   "metadata": {},
   "outputs": [],
   "source": [
    "# Creating a gear wheel \n",
    "from jupytercad import CadDocument\n",
    "import math\n",
    "\n",
    "doc = CadDocument()\n",
    "\n",
    "radius = 5\n",
    "num_teeth = 15\n",
    "tooth_width = 0.5\n",
    "\n",
    "# Create the gear wheel body\n",
    "body_radius = radius - tooth_width / 2\n",
    "body_height = tooth_width\n",
    "doc.add_cylinder(radius=body_radius, height=body_height)\n",
    "\n",
    "# Create the teeth\n",
    "tooth_angle = 2 * math.pi / num_teeth\n",
    "for i in range(num_teeth):\n",
    "    angle = i * tooth_angle\n",
    "    doc.add_box(\n",
    "        length=tooth_width, \n",
    "        width=tooth_width,\n",
    "        height=body_height,\n",
    "        position=[(radius - tooth_width) * math.cos(angle), (radius - tooth_width) * math.sin(angle), 0], \n",
    "        rotation_axis=[0, 0, 1], \n",
    "        rotation_angle=angle * 180/math.pi\n",
    "    ).cut()\n",
    "\n",
    "# Create the central hole\n",
    "hole_radius = radius * 0.3\n",
    "hole_height = body_height\n",
    "doc.add_cylinder(radius=hole_radius, height=hole_height).cut()\n",
    "doc"
   ]
  },
  {
   "cell_type": "markdown",
   "id": "25cf26d3-de48-42f2-9c79-89d2eb40948f",
   "metadata": {},
   "source": [
    "#### Load an existing FCSTD file"
   ]
  },
  {
   "cell_type": "code",
   "execution_count": null,
   "id": "f89aa5cd-961c-4d74-9a7c-ebe260e081dc",
   "metadata": {},
   "outputs": [],
   "source": [
    "from jupytercad import CadDocument\n",
    "\n",
    "doc = CadDocument(\"examples/example3.FCStd\")\n",
    "\n",
    "doc"
   ]
  },
  {
   "cell_type": "markdown",
   "id": "a2874026-07eb-4d92-b660-cc68606c0664",
   "metadata": {},
   "source": [
    "#### Create a shape from the Open Cascade Python API"
   ]
  },
  {
   "cell_type": "code",
   "execution_count": null,
   "id": "9f587854-329d-41b4-8c61-7fc1bf930811",
   "metadata": {},
   "outputs": [],
   "source": [
    "from OCC.Core.BRepPrimAPI import BRepPrimAPI_MakeBox, BRepPrimAPI_MakeSphere, BRepPrimAPI_MakeCylinder\n",
    "from OCC.Core.gp import gp_Pnt\n",
    "\n",
    "from jupytercad import CadDocument\n",
    "\n",
    "doc = CadDocument()\n",
    "\n",
    "box_shape = BRepPrimAPI_MakeBox(10, 20, 30).Shape()\n",
    "\n",
    "doc.add_occ_shape(box_shape)\n",
    "\n",
    "doc"
   ]
  },
  {
   "cell_type": "code",
   "execution_count": null,
   "id": "bb94973f-3b9e-4652-9f46-5070f6bd2583",
   "metadata": {},
   "outputs": [],
   "source": [
    "from OCC.Extend.DataExchange import read_stl_file\n",
    "from OCC.Core.TopoDS import TopoDS_Shape\n",
    "\n",
    "wheel = read_stl_file(\"examples/fan.stl\")\n",
    "\n",
    "from jupytercad import CadDocument\n",
    "\n",
    "doc = CadDocument()\n",
    "\n",
    "doc.add_occ_shape(wheel)\n",
    "\n",
    "doc"
   ]
  }
 ],
 "metadata": {
  "kernelspec": {
   "display_name": "Python 3 (ipykernel)",
   "language": "python",
   "name": "python3"
  },
  "language_info": {
   "codemirror_mode": {
    "name": "ipython",
    "version": 3
   },
   "file_extension": ".py",
   "mimetype": "text/x-python",
   "name": "python",
   "nbconvert_exporter": "python",
   "pygments_lexer": "ipython3",
   "version": "3.10.11"
  }
 },
 "nbformat": 4,
 "nbformat_minor": 5
}
