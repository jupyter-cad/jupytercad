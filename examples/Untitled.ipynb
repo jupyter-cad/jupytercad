{
 "cells": [
  {
   "cell_type": "code",
   "execution_count": 1,
   "id": "96c20bfe-9231-445d-94e3-f3122f73e6a3",
   "metadata": {},
   "outputs": [
    {
     "name": "stdout",
     "output_type": "stream",
     "text": [
      "PATH_TO_FREECAD_LIBDIR not specified, using default FreeCAD version in /home/trungle/miniconda3/envs/caddev/lib\n"
     ]
    }
   ],
   "source": [
    "import freecad as fc\n"
   ]
  },
  {
   "cell_type": "code",
   "execution_count": 2,
   "id": "44223a34-40fa-4ce3-a766-a3982a19d649",
   "metadata": {},
   "outputs": [],
   "source": [
    "import Part"
   ]
  },
  {
   "cell_type": "code",
   "execution_count": 3,
   "id": "9735d10d-0207-44db-95a8-292588f69498",
   "metadata": {},
   "outputs": [],
   "source": [
    "a = fc.app.openDocument('PartDesignExample.FCStd')"
   ]
  },
  {
   "cell_type": "code",
   "execution_count": null,
   "id": "2c6065af-3b91-4899-8f9f-530c5026c96e",
   "metadata": {},
   "outputs": [],
   "source": [
    "# box = a.getObject(\"myBox\")\n",
    "# box.Length = 4\n",
    "# box.Width = 4\n",
    "# box.Height = 22\n",
    "# a.recompute()\n",
    "# a.save()"
   ]
  },
  {
   "cell_type": "code",
   "execution_count": null,
   "id": "9d8829af-9645-4410-8441-039949ed7368",
   "metadata": {},
   "outputs": [],
   "source": [
    "# cy = a.addObject(\"Part::Cylinder\", \"myCylinder\")"
   ]
  },
  {
   "cell_type": "code",
   "execution_count": 77,
   "id": "b5ce3faa-4f61-4ecc-b140-609c897be649",
   "metadata": {},
   "outputs": [],
   "source": [
    "pad = a.Objects[1]"
   ]
  },
  {
   "cell_type": "code",
   "execution_count": 79,
   "id": "9a7410c4-ba06-4e25-8fd2-e57ead3857ee",
   "metadata": {},
   "outputs": [
    {
     "ename": "AttributeError",
     "evalue": "'App.DocumentObject' object has no attribute 'Shape'",
     "output_type": "error",
     "traceback": [
      "\u001b[0;31m---------------------------------------------------------------------------\u001b[0m",
      "\u001b[0;31mAttributeError\u001b[0m                            Traceback (most recent call last)",
      "Input \u001b[0;32mIn [79]\u001b[0m, in \u001b[0;36m<cell line: 1>\u001b[0;34m()\u001b[0m\n\u001b[0;32m----> 1\u001b[0m \u001b[43mpad\u001b[49m\u001b[38;5;241;43m.\u001b[39;49m\u001b[43mShape\u001b[49m\n",
      "\u001b[0;31mAttributeError\u001b[0m: 'App.DocumentObject' object has no attribute 'Shape'"
     ]
    }
   ],
   "source": [
    "pad.Shape"
   ]
  },
  {
   "cell_type": "code",
   "execution_count": 49,
   "id": "643f5305-c07a-413a-adcd-976bf3739bbf",
   "metadata": {},
   "outputs": [],
   "source": [
    "with open('test.brp', 'w') as f:\n",
    "    f.write(pad.Shape.ShapeType)"
   ]
  },
  {
   "cell_type": "code",
   "execution_count": 74,
   "id": "030c0170-2441-4d70-8c52-d703d538abed",
   "metadata": {},
   "outputs": [],
   "source": [
    "import io\n",
    "buffer = io.StringIO()\n",
    "pad.Shape.exportBrep(buffer)\n"
   ]
  },
  {
   "cell_type": "code",
   "execution_count": 76,
   "id": "500e860f-4021-45f7-a5e4-65c918b924e9",
   "metadata": {},
   "outputs": [
    {
     "data": {
      "text/plain": [
       "'\\nCASCADE Topology V1, (c) Matra-Datavision\\nLocations 6\\n1\\n              1               0               0               0 \\n              0               1               0               0 \\n              0               0               1               0 \\n1\\n              1               0               0               0 \\n              0               1               0               0 \\n              0               0               1             100 \\n1\\n              1               0               0               0 \\n              0               1               0               0 \\n              0               0               1               0 \\n2  3 -1 0\\n2  3 1 2 1 0\\n2  2 -1 3 -1 0\\nCurve2ds 4\\n1 9.0147633578380404 0 0 -1 \\n1 4.7212572923253253 0 0 -1 \\n1 0 0 1 0 \\n1 0 -100 1 0 \\nCurves 8\\n1 19.687721349614375 26.69051416067466 0 0 0 1 \\n1 -67.2479175 26.69051416067451 0 0 0 1 \\n1 19.687721349614375 26.690514160670478 0 -1 4.638e-14 0 \\n1 -67.2479175 -17.814146942007099 0 0 0 1 \\n1 -67.2479175 26.69051416067451 0 0 -1 0 \\n1 49.153657003639339 -17.814146942007614 0 0 0 1 \\n1 -67.2479175 -17.814146942007095 0 1 1.1952e-13 0 \\n2 48.871459999999999 14.005844 0 0 0 1 1 0 -0 -0 1 0 31.82124225575155\\nPolygon3D 0\\nPolygonOnTriangulations 0\\nSurfaces 5\\n1 19.687721349614375 26.690514160670478 0 -4.638e-14 -1 0 -1 4.638e-14 0 -0 0 -1 \\n2 48.871459999999999 14.005844 0 -0 -0 -1 1 0 0 -0 1 -0 31.82124225575155\\n1 -67.2479175 26.69051416067451 0 1 0 -0 0 -1 0 0 -0 -1 \\n1 -67.2479175 -17.814146942007095 0 -1.1952e-13 1 0 1 1.1952e-13 0 0 0 -1 \\n1 19.687721349614375 26.690514160670478 0 -0 0 -1 -1 0 0 0 1 0 \\nTriangulations 0\\n\\nTShapes 24\\nVe\\n1.00004182e-07\\n19.6877213496144 26.6905141606747 0\\n0 0\\n\\n0101101\\n*\\nEd\\n 1.00004182e-07 1 1 0\\n1  1 0 0 100\\n2  1 2 0 0 100\\n0\\n\\n0101000\\n+24 0 -24 2 *\\nVe\\n1e-07\\n-67.2479175 26.6905141606745 0\\n0 0\\n\\n0101101\\n*\\nEd\\n 1e-07 1 1 0\\n1  2 0 0 100\\n0\\n\\n0101000\\n+22 0 -22 2 *\\nEd\\n 1e-07 1 1 0\\n1  3 0 0 86.9356388496144\\n0\\n\\n0101000\\n+24 4 -22 4 *\\nWi\\n\\n0101000\\n+23 0 -21 0 -20 3 +20 5 *\\nFa\\n0  1e-07 1 0\\n\\n0111000\\n+19 0 *\\nVe\\n1.00000002e-07\\n-67.2479175 -17.8141469420071 0\\n0 0\\n\\n0101101\\n*\\nEd\\n 1.00000002e-07 1 1 0\\n1  4 0 0 100\\n0\\n\\n0101000\\n+17 0 -17 2 *\\nEd\\n 1e-07 1 1 0\\n1  5 0 0 44.5046611026816\\n0\\n\\n0101000\\n+22 4 -17 4 *\\nWi\\n\\n0101000\\n+21 0 -16 0 -15 3 +15 5 *\\nFa\\n0  1e-07 3 0\\n\\n0111000\\n+14 0 *\\nVe\\n1.00014431e-07\\n49.1536570036393 -17.8141469420076 0\\n0 0\\n\\n0101101\\n*\\nEd\\n 1.00014431e-07 1 1 0\\n1  6 0 0 100\\n2  2 2 0 0 100\\n0\\n\\n0101000\\n+12 0 -12 2 *\\nEd\\n 1e-07 1 1 0\\n1  7 0 0 116.401574503639\\n0\\n\\n0101000\\n+17 4 -12 4 *\\nWi\\n\\n0101000\\n+16 0 -11 0 -10 3 +10 5 *\\nFa\\n0  1e-07 4 0\\n\\n0111000\\n+9 0 *\\nEd\\n 1e-07 1 1 0\\n1  8 0 4.72125729232533 9.01476335783804\\n2  3 2 4 4.72125729232533 9.01476335783804\\n2  4 2 6 4.72125729232533 9.01476335783804\\n0\\n\\n0101000\\n+12 4 -24 4 *\\nWi\\n\\n0101000\\n+11 0 -23 0 -7 3 +7 5 *\\nFa\\n0  1e-07 2 0\\n\\n0111000\\n+6 0 *\\nWi\\n\\n0101100\\n+20 0 +15 0 +10 0 +7 0 *\\nFa\\n0  1e-07 5 0\\n\\n0111000\\n-4 3 *\\nSh\\n\\n0101000\\n-18 0 -13 0 -8 0 -5 0 +3 0 -3 2 *\\nSo\\n\\n1100000\\n+2 0 *\\n\\n+1 1 '"
      ]
     },
     "execution_count": 76,
     "metadata": {},
     "output_type": "execute_result"
    }
   ],
   "source": [
    "buffer.getvalue()"
   ]
  },
  {
   "cell_type": "code",
   "execution_count": 71,
   "id": "b64dc941-3c99-41e5-a800-b765ac8ef2ab",
   "metadata": {},
   "outputs": [
    {
     "ename": "UnicodeDecodeError",
     "evalue": "'utf-16-le' codec can't decode byte 0x00 in position 142: truncated data",
     "output_type": "error",
     "traceback": [
      "\u001b[0;31m---------------------------------------------------------------------------\u001b[0m",
      "\u001b[0;31mUnicodeDecodeError\u001b[0m                        Traceback (most recent call last)",
      "Input \u001b[0;32mIn [71]\u001b[0m, in \u001b[0;36m<cell line: 1>\u001b[0;34m()\u001b[0m\n\u001b[0;32m----> 1\u001b[0m \u001b[38;5;28;43mbin\u001b[39;49m\u001b[38;5;241;43m.\u001b[39;49m\u001b[43mdecode\u001b[49m\u001b[43m(\u001b[49m\u001b[38;5;124;43m'\u001b[39;49m\u001b[38;5;124;43mutf-16\u001b[39;49m\u001b[38;5;124;43m'\u001b[39;49m\u001b[43m)\u001b[49m\n",
      "\u001b[0;31mUnicodeDecodeError\u001b[0m: 'utf-16-le' codec can't decode byte 0x00 in position 142: truncated data"
     ]
    }
   ],
   "source": [
    "bin.decode('utf-16')"
   ]
  },
  {
   "cell_type": "code",
   "execution_count": 8,
   "id": "c5c0f10b-97bd-4eed-897e-9f25e9d7164a",
   "metadata": {},
   "outputs": [],
   "source": []
  },
  {
   "cell_type": "code",
   "execution_count": 9,
   "id": "f2068aff-843e-4407-bad1-61fccdb9c4ec",
   "metadata": {},
   "outputs": [],
   "source": [
    "cc = c.Tool"
   ]
  },
  {
   "cell_type": "code",
   "execution_count": 14,
   "id": "dcdaf6ba-f5e7-44a5-8fa5-eb7d1bb89173",
   "metadata": {},
   "outputs": [
    {
     "data": {
      "text/plain": [
       "builtin_function_or_method"
      ]
     },
     "execution_count": 14,
     "metadata": {},
     "output_type": "execute_result"
    }
   ],
   "source": [
    "type(cc.Shape.cut)"
   ]
  },
  {
   "cell_type": "code",
   "execution_count": 37,
   "id": "1f94c281-9f3f-4d68-8244-c0e72f40dbab",
   "metadata": {},
   "outputs": [],
   "source": [
    "box =  a.getObject(\"myBox\")"
   ]
  },
  {
   "cell_type": "code",
   "execution_count": 38,
   "id": "f267cf61-a6c0-49f3-8721-dded98a5b646",
   "metadata": {},
   "outputs": [
    {
     "data": {
      "text/plain": [
       "'myBox'"
      ]
     },
     "execution_count": 38,
     "metadata": {},
     "output_type": "execute_result"
    }
   ],
   "source": [
    "box.Name"
   ]
  },
  {
   "cell_type": "code",
   "execution_count": 39,
   "id": "23a895b7-747c-4fdd-8e81-ad44d783bb1f",
   "metadata": {},
   "outputs": [],
   "source": [
    "c.Tool = box"
   ]
  },
  {
   "cell_type": "code",
   "execution_count": 43,
   "id": "aac5c88d-4c22-4fcc-bd6d-9d55c881c080",
   "metadata": {},
   "outputs": [
    {
     "data": {
      "text/plain": [
       "'    <Properties Count=\"9\" TransientCount=\"1\">\\n        <_Property name=\"History\" type=\"Part::PropertyShapeHistory\" status=\"234881024\"/>\\n        <Property name=\"Base\" type=\"App::PropertyLink\">\\n            <Link value=\"Box\"/>\\n        </Property>\\n        <Property name=\"ExpressionEngine\" type=\"App::PropertyExpressionEngine\" status=\"67108864\">\\n            <ExpressionEngine count=\"0\">\\n            </ExpressionEngine>\\n        </Property>\\n        <Property name=\"Label\" type=\"App::PropertyString\" status=\"134217728\">\\n            <String value=\"Cut\"/>\\n        </Property>\\n        <Property name=\"Label2\" type=\"App::PropertyString\" status=\"67108992\">\\n            <String value=\"\"/>\\n        </Property>\\n        <Property name=\"Placement\" type=\"App::PropertyPlacement\" status=\"8388608\">\\n            <PropertyPlacement Px=\"0\" Py=\"0\" Pz=\"0\" Q0=\"0\" Q1=\"0\" Q2=\"0\" Q3=\"1\" A=\"0\" Ox=\"0\" Oy=\"0\" Oz=\"1\"/>\\n        </Property>\\n        <Property name=\"Refine\" type=\"App::PropertyBool\">\\n            <Bool value=\"false\"/>\\n        </Property>\\n        <Property name=\"Shape\" type=\"Part::PropertyPartShape\">\\n        </Property>\\n        <Property name=\"Tool\" type=\"App::PropertyLink\" status=\"1\">\\n            <Link value=\"myBox\"/>\\n        </Property>\\n        <Property name=\"Visibility\" type=\"App::PropertyBool\" status=\"648\">\\n            <Bool value=\"true\"/>\\n        </Property>\\n    </Properties>\\n'"
      ]
     },
     "execution_count": 43,
     "metadata": {},
     "output_type": "execute_result"
    }
   ],
   "source": [
    "c.Content"
   ]
  },
  {
   "cell_type": "code",
   "execution_count": null,
   "id": "866a04ec-7e88-43a8-90fc-74aba5c1c30d",
   "metadata": {},
   "outputs": [],
   "source": [
    "a.removeObject()"
   ]
  },
  {
   "cell_type": "code",
   "execution_count": null,
   "id": "81cf4985-0178-4966-a73b-0a87dbe47f6a",
   "metadata": {},
   "outputs": [],
   "source": [
    "dir(a)"
   ]
  },
  {
   "cell_type": "code",
   "execution_count": null,
   "id": "6dbd3a1d-3b39-4a1d-b124-9649031f15ce",
   "metadata": {},
   "outputs": [],
   "source": [
    "aa = a.dumpContent()"
   ]
  },
  {
   "cell_type": "code",
   "execution_count": null,
   "id": "ce3c0934-a94b-4d11-a097-259725d800b3",
   "metadata": {},
   "outputs": [],
   "source": [
    "type(aa)"
   ]
  },
  {
   "cell_type": "code",
   "execution_count": null,
   "id": "b50e6a02-df9f-4331-8c82-aa66fcd788f8",
   "metadata": {},
   "outputs": [],
   "source": [
    "with open('test2.FCStd', 'wb') as f:\n",
    "    f.write(aa)"
   ]
  },
  {
   "cell_type": "code",
   "execution_count": null,
   "id": "8ef93528-7225-403c-9ad9-085477b032f6",
   "metadata": {},
   "outputs": [],
   "source": []
  },
  {
   "cell_type": "code",
   "execution_count": null,
   "id": "eeab8669",
   "metadata": {},
   "outputs": [],
   "source": [
    "import freecad as fc\n"
   ]
  },
  {
   "cell_type": "code",
   "execution_count": null,
   "id": "9c6e73f7",
   "metadata": {},
   "outputs": [],
   "source": [
    "a = fc.app.openDocument('box3.FCStd')"
   ]
  },
  {
   "cell_type": "code",
   "execution_count": null,
   "id": "14f7c4bd",
   "metadata": {},
   "outputs": [],
   "source": [
    "a.Objects"
   ]
  },
  {
   "cell_type": "code",
   "execution_count": null,
   "id": "c78e656c",
   "metadata": {},
   "outputs": [],
   "source": [
    "# box = a.getObject(\"myBox\")\n",
    "# box.Length = 4\n",
    "# box.Width = 4\n",
    "# box.Height = 22\n",
    "# a.recompute()\n",
    "# a.save()"
   ]
  },
  {
   "cell_type": "code",
   "execution_count": null,
   "id": "a50229dd",
   "metadata": {},
   "outputs": [],
   "source": [
    "b = fc.app.Placement"
   ]
  },
  {
   "cell_type": "code",
   "execution_count": 8,
   "id": "3b4014b6",
   "metadata": {},
   "outputs": [],
   "source": [
    "o = a.Objects[0]"
   ]
  },
  {
   "cell_type": "code",
   "execution_count": 11,
   "id": "d6d02f6a",
   "metadata": {},
   "outputs": [
    {
     "ename": "AttributeError",
     "evalue": "'PrimitivePy' object has no attribute 'Shaoe'",
     "output_type": "error",
     "traceback": [
      "\u001b[0;31m---------------------------------------------------------------------------\u001b[0m",
      "\u001b[0;31mAttributeError\u001b[0m                            Traceback (most recent call last)",
      "Input \u001b[0;32mIn [11]\u001b[0m, in \u001b[0;36m<cell line: 1>\u001b[0;34m()\u001b[0m\n\u001b[0;32m----> 1\u001b[0m \u001b[43mo\u001b[49m\u001b[38;5;241;43m.\u001b[39;49m\u001b[43mShaoe\u001b[49m\n",
      "\u001b[0;31mAttributeError\u001b[0m: 'PrimitivePy' object has no attribute 'Shaoe'"
     ]
    }
   ],
   "source": [
    "o.Shaoe"
   ]
  },
  {
   "cell_type": "code",
   "execution_count": null,
   "id": "bc0e0d54-0a04-42ce-89d6-92cc7739518e",
   "metadata": {},
   "outputs": [],
   "source": []
  }
 ],
 "metadata": {
  "kernelspec": {
   "display_name": "Python 3 (ipykernel)",
   "language": "python",
   "name": "python3"
  },
  "language_info": {
   "codemirror_mode": {
    "name": "ipython",
    "version": 3
   },
   "file_extension": ".py",
   "mimetype": "text/x-python",
   "name": "python",
   "nbconvert_exporter": "python",
   "pygments_lexer": "ipython3",
   "version": "3.10.6"
  }
 },
 "nbformat": 4,
 "nbformat_minor": 5
}
