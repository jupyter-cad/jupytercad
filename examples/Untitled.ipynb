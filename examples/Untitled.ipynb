{
 "cells": [
  {
   "cell_type": "code",
   "execution_count": 3,
   "id": "96c20bfe-9231-445d-94e3-f3122f73e6a3",
   "metadata": {},
   "outputs": [],
   "source": [
    "import freecad as fc\n"
   ]
  },
  {
   "cell_type": "code",
   "execution_count": 4,
   "id": "44223a34-40fa-4ce3-a766-a3982a19d649",
   "metadata": {},
   "outputs": [],
   "source": [
    "import Part"
   ]
  },
  {
   "cell_type": "code",
   "execution_count": 5,
   "id": "9735d10d-0207-44db-95a8-292588f69498",
   "metadata": {},
   "outputs": [],
   "source": [
    "a = fc.app.openDocument('box4.FCStd')"
   ]
  },
  {
   "cell_type": "code",
   "execution_count": null,
   "id": "2c6065af-3b91-4899-8f9f-530c5026c96e",
   "metadata": {},
   "outputs": [],
   "source": [
    "# box = a.getObject(\"myBox\")\n",
    "# box.Length = 4\n",
    "# box.Width = 4\n",
    "# box.Height = 22\n",
    "# a.recompute()\n",
    "# a.save()"
   ]
  },
  {
   "cell_type": "code",
   "execution_count": null,
   "id": "9d8829af-9645-4410-8441-039949ed7368",
   "metadata": {},
   "outputs": [],
   "source": [
    "# cy = a.addObject(\"Part::Cylinder\", \"myCylinder\")"
   ]
  },
  {
   "cell_type": "code",
   "execution_count": 6,
   "id": "b5ce3faa-4f61-4ecc-b140-609c897be649",
   "metadata": {},
   "outputs": [],
   "source": [
    "asc = a.addObject('Part::Box', 'NewBox' )"
   ]
  },
  {
   "cell_type": "code",
   "execution_count": 10,
   "id": "9a7410c4-ba06-4e25-8fd2-e57ead3857ee",
   "metadata": {},
   "outputs": [
    {
     "ename": "AttributeError",
     "evalue": "Attribute 'ID' of object 'DocumentObject' is read-only",
     "output_type": "error",
     "traceback": [
      "\u001b[0;31m---------------------------------------------------------------------------\u001b[0m",
      "\u001b[0;31mAttributeError\u001b[0m                            Traceback (most recent call last)",
      "Input \u001b[0;32mIn [10]\u001b[0m, in \u001b[0;36m<cell line: 1>\u001b[0;34m()\u001b[0m\n\u001b[0;32m----> 1\u001b[0m \u001b[43masc\u001b[49m\u001b[38;5;241;43m.\u001b[39;49m\u001b[43mID\u001b[49m \u001b[38;5;241m=\u001b[39m \u001b[38;5;241m1234\u001b[39m\n",
      "\u001b[0;31mAttributeError\u001b[0m: Attribute 'ID' of object 'DocumentObject' is read-only"
     ]
    }
   ],
   "source": [
    "asc.ID"
   ]
  },
  {
   "cell_type": "code",
   "execution_count": 13,
   "id": "643f5305-c07a-413a-adcd-976bf3739bbf",
   "metadata": {},
   "outputs": [
    {
     "data": {
      "text/plain": [
       "<Part::PartFeature>"
      ]
     },
     "execution_count": 13,
     "metadata": {},
     "output_type": "execute_result"
    }
   ],
   "source": [
    "vcv"
   ]
  },
  {
   "cell_type": "code",
   "execution_count": null,
   "id": "b64dc941-3c99-41e5-a800-b765ac8ef2ab",
   "metadata": {},
   "outputs": [],
   "source": [
    "180*pp.Rotation.Angle/3.14"
   ]
  },
  {
   "cell_type": "code",
   "execution_count": 8,
   "id": "c5c0f10b-97bd-4eed-897e-9f25e9d7164a",
   "metadata": {},
   "outputs": [],
   "source": [
    "c = a.getObject('Cut')"
   ]
  },
  {
   "cell_type": "code",
   "execution_count": 9,
   "id": "f2068aff-843e-4407-bad1-61fccdb9c4ec",
   "metadata": {},
   "outputs": [],
   "source": [
    "cc = c.Tool"
   ]
  },
  {
   "cell_type": "code",
   "execution_count": 14,
   "id": "dcdaf6ba-f5e7-44a5-8fa5-eb7d1bb89173",
   "metadata": {},
   "outputs": [
    {
     "data": {
      "text/plain": [
       "builtin_function_or_method"
      ]
     },
     "execution_count": 14,
     "metadata": {},
     "output_type": "execute_result"
    }
   ],
   "source": [
    "type(cc.Shape.cut)"
   ]
  },
  {
   "cell_type": "code",
   "execution_count": 37,
   "id": "1f94c281-9f3f-4d68-8244-c0e72f40dbab",
   "metadata": {},
   "outputs": [],
   "source": [
    "box =  a.getObject(\"myBox\")"
   ]
  },
  {
   "cell_type": "code",
   "execution_count": 38,
   "id": "f267cf61-a6c0-49f3-8721-dded98a5b646",
   "metadata": {},
   "outputs": [
    {
     "data": {
      "text/plain": [
       "'myBox'"
      ]
     },
     "execution_count": 38,
     "metadata": {},
     "output_type": "execute_result"
    }
   ],
   "source": [
    "box.Name"
   ]
  },
  {
   "cell_type": "code",
   "execution_count": 39,
   "id": "23a895b7-747c-4fdd-8e81-ad44d783bb1f",
   "metadata": {},
   "outputs": [],
   "source": [
    "c.Tool = box"
   ]
  },
  {
   "cell_type": "code",
   "execution_count": 43,
   "id": "aac5c88d-4c22-4fcc-bd6d-9d55c881c080",
   "metadata": {},
   "outputs": [
    {
     "data": {
      "text/plain": [
       "'    <Properties Count=\"9\" TransientCount=\"1\">\\n        <_Property name=\"History\" type=\"Part::PropertyShapeHistory\" status=\"234881024\"/>\\n        <Property name=\"Base\" type=\"App::PropertyLink\">\\n            <Link value=\"Box\"/>\\n        </Property>\\n        <Property name=\"ExpressionEngine\" type=\"App::PropertyExpressionEngine\" status=\"67108864\">\\n            <ExpressionEngine count=\"0\">\\n            </ExpressionEngine>\\n        </Property>\\n        <Property name=\"Label\" type=\"App::PropertyString\" status=\"134217728\">\\n            <String value=\"Cut\"/>\\n        </Property>\\n        <Property name=\"Label2\" type=\"App::PropertyString\" status=\"67108992\">\\n            <String value=\"\"/>\\n        </Property>\\n        <Property name=\"Placement\" type=\"App::PropertyPlacement\" status=\"8388608\">\\n            <PropertyPlacement Px=\"0\" Py=\"0\" Pz=\"0\" Q0=\"0\" Q1=\"0\" Q2=\"0\" Q3=\"1\" A=\"0\" Ox=\"0\" Oy=\"0\" Oz=\"1\"/>\\n        </Property>\\n        <Property name=\"Refine\" type=\"App::PropertyBool\">\\n            <Bool value=\"false\"/>\\n        </Property>\\n        <Property name=\"Shape\" type=\"Part::PropertyPartShape\">\\n        </Property>\\n        <Property name=\"Tool\" type=\"App::PropertyLink\" status=\"1\">\\n            <Link value=\"myBox\"/>\\n        </Property>\\n        <Property name=\"Visibility\" type=\"App::PropertyBool\" status=\"648\">\\n            <Bool value=\"true\"/>\\n        </Property>\\n    </Properties>\\n'"
      ]
     },
     "execution_count": 43,
     "metadata": {},
     "output_type": "execute_result"
    }
   ],
   "source": [
    "c.Content"
   ]
  },
  {
   "cell_type": "code",
   "execution_count": null,
   "id": "866a04ec-7e88-43a8-90fc-74aba5c1c30d",
   "metadata": {},
   "outputs": [],
   "source": [
    "a.removeObject()"
   ]
  },
  {
   "cell_type": "code",
   "execution_count": null,
   "id": "81cf4985-0178-4966-a73b-0a87dbe47f6a",
   "metadata": {},
   "outputs": [],
   "source": [
    "dir(a)"
   ]
  },
  {
   "cell_type": "code",
   "execution_count": null,
   "id": "6dbd3a1d-3b39-4a1d-b124-9649031f15ce",
   "metadata": {},
   "outputs": [],
   "source": [
    "aa = a.dumpContent()"
   ]
  },
  {
   "cell_type": "code",
   "execution_count": null,
   "id": "ce3c0934-a94b-4d11-a097-259725d800b3",
   "metadata": {},
   "outputs": [],
   "source": [
    "type(aa)"
   ]
  },
  {
   "cell_type": "code",
   "execution_count": null,
   "id": "b50e6a02-df9f-4331-8c82-aa66fcd788f8",
   "metadata": {},
   "outputs": [],
   "source": [
    "with open('test2.FCStd', 'wb') as f:\n",
    "    f.write(aa)"
   ]
  },
  {
   "cell_type": "code",
   "execution_count": null,
   "id": "8ef93528-7225-403c-9ad9-085477b032f6",
   "metadata": {},
   "outputs": [],
   "source": []
  },
  {
   "cell_type": "code",
   "execution_count": null,
   "id": "eeab8669",
   "metadata": {},
   "outputs": [],
   "source": [
    "import freecad as fc\n"
   ]
  },
  {
   "cell_type": "code",
   "execution_count": null,
   "id": "9c6e73f7",
   "metadata": {},
   "outputs": [],
   "source": [
    "a = fc.app.openDocument('box3.FCStd')"
   ]
  },
  {
   "cell_type": "code",
   "execution_count": null,
   "id": "14f7c4bd",
   "metadata": {},
   "outputs": [],
   "source": [
    "a.Objects"
   ]
  },
  {
   "cell_type": "code",
   "execution_count": null,
   "id": "c78e656c",
   "metadata": {},
   "outputs": [],
   "source": [
    "# box = a.getObject(\"myBox\")\n",
    "# box.Length = 4\n",
    "# box.Width = 4\n",
    "# box.Height = 22\n",
    "# a.recompute()\n",
    "# a.save()"
   ]
  },
  {
   "cell_type": "code",
   "execution_count": null,
   "id": "a50229dd",
   "metadata": {},
   "outputs": [],
   "source": [
    "b = fc.app.Placement"
   ]
  },
  {
   "cell_type": "code",
   "execution_count": null,
   "id": "3b4014b6",
   "metadata": {},
   "outputs": [],
   "source": [
    "o = a.Objects[1]"
   ]
  },
  {
   "cell_type": "code",
   "execution_count": null,
   "id": "d6d02f6a",
   "metadata": {},
   "outputs": [],
   "source": [
    "b"
   ]
  }
 ],
 "metadata": {
  "kernelspec": {
   "display_name": "Python 3 (ipykernel)",
   "language": "python",
   "name": "python3"
  },
  "language_info": {
   "codemirror_mode": {
    "name": "ipython",
    "version": 3
   },
   "file_extension": ".py",
   "mimetype": "text/x-python",
   "name": "python",
   "nbconvert_exporter": "python",
   "pygments_lexer": "ipython3",
   "version": "3.10.6"
  }
 },
 "nbformat": 4,
 "nbformat_minor": 5
}
