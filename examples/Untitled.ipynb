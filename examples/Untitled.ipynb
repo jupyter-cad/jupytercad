{
 "cells": [
  {
   "cell_type": "code",
   "execution_count": 9,
   "id": "96c20bfe-9231-445d-94e3-f3122f73e6a3",
   "metadata": {},
   "outputs": [],
   "source": [
    "import freecad as fc\n"
   ]
  },
  {
   "cell_type": "code",
   "execution_count": 10,
   "id": "9735d10d-0207-44db-95a8-292588f69498",
   "metadata": {},
   "outputs": [],
   "source": [
    "a = fc.app.openDocument('box3.FCStd')"
   ]
  },
  {
   "cell_type": "code",
   "execution_count": 11,
   "id": "d45b40cd-af87-44c8-9bed-2df9ebcb2b84",
   "metadata": {},
   "outputs": [
    {
     "data": {
      "text/plain": [
       "[<Part::PartFeature>, <Part::PartFeature>, <Part::PartFeature>]"
      ]
     },
     "execution_count": 11,
     "metadata": {},
     "output_type": "execute_result"
    }
   ],
   "source": [
    "a.Objects"
   ]
  },
  {
   "cell_type": "code",
   "execution_count": 12,
   "id": "2c6065af-3b91-4899-8f9f-530c5026c96e",
   "metadata": {},
   "outputs": [],
   "source": [
    "# box = a.getObject(\"myBox\")\n",
    "# box.Length = 4\n",
    "# box.Width = 4\n",
    "# box.Height = 22\n",
    "# a.recompute()\n",
    "# a.save()"
   ]
  },
  {
   "cell_type": "code",
   "execution_count": 13,
   "id": "9d8829af-9645-4410-8441-039949ed7368",
   "metadata": {},
   "outputs": [],
   "source": [
    "cy = a.addObject(\"Part::Cylinder\", \"myCylinder\")"
   ]
  },
  {
   "cell_type": "code",
   "execution_count": 19,
   "id": "b5ce3faa-4f61-4ecc-b140-609c897be649",
   "metadata": {},
   "outputs": [
    {
     "data": {
      "text/plain": [
       "360.0"
      ]
     },
     "execution_count": 19,
     "metadata": {},
     "output_type": "execute_result"
    }
   ],
   "source": [
    "cy.Angle.getValueAs('deg').Value"
   ]
  },
  {
   "cell_type": "code",
   "execution_count": 7,
   "id": "b64dc941-3c99-41e5-a800-b765ac8ef2ab",
   "metadata": {},
   "outputs": [
    {
     "ename": "NameError",
     "evalue": "name 'pp' is not defined",
     "output_type": "error",
     "traceback": [
      "\u001b[0;31m---------------------------------------------------------------------------\u001b[0m",
      "\u001b[0;31mNameError\u001b[0m                                 Traceback (most recent call last)",
      "Input \u001b[0;32mIn [7]\u001b[0m, in \u001b[0;36m<cell line: 1>\u001b[0;34m()\u001b[0m\n\u001b[0;32m----> 1\u001b[0m \u001b[38;5;241m180\u001b[39m\u001b[38;5;241m*\u001b[39m\u001b[43mpp\u001b[49m\u001b[38;5;241m.\u001b[39mRotation\u001b[38;5;241m.\u001b[39mAngle\u001b[38;5;241m/\u001b[39m\u001b[38;5;241m3.14\u001b[39m\n",
      "\u001b[0;31mNameError\u001b[0m: name 'pp' is not defined"
     ]
    }
   ],
   "source": [
    "180*pp.Rotation.Angle/3.14"
   ]
  },
  {
   "cell_type": "code",
   "execution_count": 8,
   "id": "7e7c7e71-df9c-43d1-9d29-8ac3e06ce5f8",
   "metadata": {},
   "outputs": [
    {
     "ename": "NameError",
     "evalue": "name 'o' is not defined",
     "output_type": "error",
     "traceback": [
      "\u001b[0;31m---------------------------------------------------------------------------\u001b[0m",
      "\u001b[0;31mNameError\u001b[0m                                 Traceback (most recent call last)",
      "Input \u001b[0;32mIn [8]\u001b[0m, in \u001b[0;36m<cell line: 1>\u001b[0;34m()\u001b[0m\n\u001b[0;32m----> 1\u001b[0m \u001b[43mo\u001b[49m\u001b[38;5;241m.\u001b[39mHeight\u001b[38;5;241m.\u001b[39mValue\n",
      "\u001b[0;31mNameError\u001b[0m: name 'o' is not defined"
     ]
    }
   ],
   "source": [
    "o.Height.Value"
   ]
  },
  {
   "cell_type": "code",
   "execution_count": 9,
   "id": "c5c0f10b-97bd-4eed-897e-9f25e9d7164a",
   "metadata": {},
   "outputs": [],
   "source": [
    "c = a.getObject('Box')"
   ]
  },
  {
   "cell_type": "code",
   "execution_count": 13,
   "id": "f2068aff-843e-4407-bad1-61fccdb9c4ec",
   "metadata": {},
   "outputs": [
    {
     "data": {
      "text/plain": [
       "Rotation (-0.06636852179521617, 0.2968205658989128, 0.23224853149351313, 0.9238795325112867)"
      ]
     },
     "execution_count": 13,
     "metadata": {},
     "output_type": "execute_result"
    }
   ],
   "source": [
    "o.Placement."
   ]
  },
  {
   "cell_type": "code",
   "execution_count": 11,
   "id": "dcdaf6ba-f5e7-44a5-8fa5-eb7d1bb89173",
   "metadata": {},
   "outputs": [
    {
     "data": {
      "text/plain": [
       "22.0 mm"
      ]
     },
     "execution_count": 11,
     "metadata": {},
     "output_type": "execute_result"
    }
   ],
   "source": [
    "o.Height"
   ]
  },
  {
   "cell_type": "code",
   "execution_count": 12,
   "id": "1f94c281-9f3f-4d68-8244-c0e72f40dbab",
   "metadata": {},
   "outputs": [],
   "source": [
    "p = o.Placement.a"
   ]
  },
  {
   "cell_type": "code",
   "execution_count": 14,
   "id": "f267cf61-a6c0-49f3-8721-dded98a5b646",
   "metadata": {},
   "outputs": [
    {
     "data": {
      "text/plain": [
       "Vector (1.0, 2.0, 3.0)"
      ]
     },
     "execution_count": 14,
     "metadata": {},
     "output_type": "execute_result"
    }
   ],
   "source": [
    "p.Rotation.Axis"
   ]
  },
  {
   "cell_type": "code",
   "execution_count": 14,
   "id": "23a895b7-747c-4fdd-8e81-ad44d783bb1f",
   "metadata": {},
   "outputs": [
    {
     "data": {
      "text/plain": [
       "['Base',\n",
       " 'Matrix',\n",
       " 'Rotation',\n",
       " '__abs__',\n",
       " '__add__',\n",
       " '__and__',\n",
       " '__bool__',\n",
       " '__class__',\n",
       " '__delattr__',\n",
       " '__dir__',\n",
       " '__divmod__',\n",
       " '__doc__',\n",
       " '__eq__',\n",
       " '__float__',\n",
       " '__format__',\n",
       " '__ge__',\n",
       " '__getattribute__',\n",
       " '__gt__',\n",
       " '__hash__',\n",
       " '__init__',\n",
       " '__init_subclass__',\n",
       " '__int__',\n",
       " '__invert__',\n",
       " '__le__',\n",
       " '__lshift__',\n",
       " '__lt__',\n",
       " '__mod__',\n",
       " '__mul__',\n",
       " '__ne__',\n",
       " '__neg__',\n",
       " '__new__',\n",
       " '__or__',\n",
       " '__pos__',\n",
       " '__pow__',\n",
       " '__radd__',\n",
       " '__rand__',\n",
       " '__rdivmod__',\n",
       " '__reduce__',\n",
       " '__reduce_ex__',\n",
       " '__repr__',\n",
       " '__rlshift__',\n",
       " '__rmod__',\n",
       " '__rmul__',\n",
       " '__ror__',\n",
       " '__rpow__',\n",
       " '__rrshift__',\n",
       " '__rshift__',\n",
       " '__rsub__',\n",
       " '__rtruediv__',\n",
       " '__rxor__',\n",
       " '__setattr__',\n",
       " '__sizeof__',\n",
       " '__str__',\n",
       " '__sub__',\n",
       " '__subclasshook__',\n",
       " '__truediv__',\n",
       " '__xor__',\n",
       " 'copy',\n",
       " 'inverse',\n",
       " 'isIdentity',\n",
       " 'move',\n",
       " 'multVec',\n",
       " 'multiply',\n",
       " 'pow',\n",
       " 'rotate',\n",
       " 'sclerp',\n",
       " 'slerp',\n",
       " 'toMatrix',\n",
       " 'translate']"
      ]
     },
     "execution_count": 14,
     "metadata": {},
     "output_type": "execute_result"
    }
   ],
   "source": [
    "dir(p)"
   ]
  },
  {
   "cell_type": "code",
   "execution_count": 13,
   "id": "aac5c88d-4c22-4fcc-bd6d-9d55c881c080",
   "metadata": {},
   "outputs": [],
   "source": [
    "a.Objects.clear()"
   ]
  },
  {
   "cell_type": "code",
   "execution_count": 20,
   "id": "866a04ec-7e88-43a8-90fc-74aba5c1c30d",
   "metadata": {},
   "outputs": [
    {
     "ename": "TypeError",
     "evalue": "function takes exactly 1 argument (0 given)",
     "output_type": "error",
     "traceback": [
      "\u001b[0;31m---------------------------------------------------------------------------\u001b[0m",
      "\u001b[0;31mTypeError\u001b[0m                                 Traceback (most recent call last)",
      "Input \u001b[0;32mIn [20]\u001b[0m, in \u001b[0;36m<cell line: 1>\u001b[0;34m()\u001b[0m\n\u001b[0;32m----> 1\u001b[0m \u001b[43ma\u001b[49m\u001b[38;5;241;43m.\u001b[39;49m\u001b[43mremoveObject\u001b[49m\u001b[43m(\u001b[49m\u001b[43m)\u001b[49m\n",
      "\u001b[0;31mTypeError\u001b[0m: function takes exactly 1 argument (0 given)"
     ]
    }
   ],
   "source": [
    "a.removeObject()"
   ]
  },
  {
   "cell_type": "code",
   "execution_count": 18,
   "id": "81cf4985-0178-4966-a73b-0a87dbe47f6a",
   "metadata": {},
   "outputs": [
    {
     "data": {
      "text/plain": [
       "['ActiveObject',\n",
       " 'Comment',\n",
       " 'Company',\n",
       " 'Content',\n",
       " 'CreatedBy',\n",
       " 'CreationDate',\n",
       " 'DependencyGraph',\n",
       " 'FileName',\n",
       " 'HasPendingTransaction',\n",
       " 'Id',\n",
       " 'Importing',\n",
       " 'InList',\n",
       " 'Label',\n",
       " 'LastModifiedBy',\n",
       " 'LastModifiedDate',\n",
       " 'License',\n",
       " 'LicenseURL',\n",
       " 'Material',\n",
       " 'MemSize',\n",
       " 'Meta',\n",
       " 'Module',\n",
       " 'Name',\n",
       " 'Objects',\n",
       " 'OldLabel',\n",
       " 'OutList',\n",
       " 'Partial',\n",
       " 'PropertiesList',\n",
       " 'RecomputesFrozen',\n",
       " 'Recomputing',\n",
       " 'RedoCount',\n",
       " 'RedoNames',\n",
       " 'Restoring',\n",
       " 'RootObjects',\n",
       " 'ShowHidden',\n",
       " 'Temporary',\n",
       " 'Tip',\n",
       " 'TipName',\n",
       " 'TopologicalSortedObjects',\n",
       " 'Transacting',\n",
       " 'TransientDir',\n",
       " 'TypeId',\n",
       " 'Uid',\n",
       " 'UndoCount',\n",
       " 'UndoMode',\n",
       " 'UndoNames',\n",
       " 'UndoRedoMemSize',\n",
       " '__class__',\n",
       " '__delattr__',\n",
       " '__dir__',\n",
       " '__doc__',\n",
       " '__eq__',\n",
       " '__format__',\n",
       " '__ge__',\n",
       " '__getattribute__',\n",
       " '__gt__',\n",
       " '__hash__',\n",
       " '__init__',\n",
       " '__init_subclass__',\n",
       " '__le__',\n",
       " '__lt__',\n",
       " '__ne__',\n",
       " '__new__',\n",
       " '__reduce__',\n",
       " '__reduce_ex__',\n",
       " '__repr__',\n",
       " '__setattr__',\n",
       " '__sizeof__',\n",
       " '__str__',\n",
       " '__subclasshook__',\n",
       " 'abortTransaction',\n",
       " 'addObject',\n",
       " 'clearDocument',\n",
       " 'clearUndos',\n",
       " 'commitTransaction',\n",
       " 'copyObject',\n",
       " 'dumpContent',\n",
       " 'dumpPropertyContent',\n",
       " 'exportGraphviz',\n",
       " 'findObjects',\n",
       " 'getAllDerivedFrom',\n",
       " 'getDependentDocuments',\n",
       " 'getDocumentationOfProperty',\n",
       " 'getEditorMode',\n",
       " 'getEnumerationsOfProperty',\n",
       " 'getFileName',\n",
       " 'getGroupOfProperty',\n",
       " 'getLinksTo',\n",
       " 'getObject',\n",
       " 'getObjectsByLabel',\n",
       " 'getProgramVersion',\n",
       " 'getPropertyByName',\n",
       " 'getPropertyStatus',\n",
       " 'getPropertyTouchList',\n",
       " 'getTempFileName',\n",
       " 'getTypeIdOfProperty',\n",
       " 'getTypeOfProperty',\n",
       " 'importLinks',\n",
       " 'isClosable',\n",
       " 'isDerivedFrom',\n",
       " 'isSaved',\n",
       " 'isTouched',\n",
       " 'load',\n",
       " 'mergeProject',\n",
       " 'moveObject',\n",
       " 'mustExecute',\n",
       " 'openTransaction',\n",
       " 'purgeTouched',\n",
       " 'recompute',\n",
       " 'redo',\n",
       " 'removeObject',\n",
       " 'restore',\n",
       " 'restoreContent',\n",
       " 'restorePropertyContent',\n",
       " 'save',\n",
       " 'saveAs',\n",
       " 'saveCopy',\n",
       " 'setClosable',\n",
       " 'setDocumentationOfProperty',\n",
       " 'setEditorMode',\n",
       " 'setGroupOfProperty',\n",
       " 'setPropertyStatus',\n",
       " 'supportedTypes',\n",
       " 'undo']"
      ]
     },
     "execution_count": 18,
     "metadata": {},
     "output_type": "execute_result"
    }
   ],
   "source": [
    "dir(a)"
   ]
  },
  {
   "cell_type": "code",
   "execution_count": 6,
   "id": "6dbd3a1d-3b39-4a1d-b124-9649031f15ce",
   "metadata": {},
   "outputs": [],
   "source": [
    "aa = a.dumpContent()"
   ]
  },
  {
   "cell_type": "code",
   "execution_count": 11,
   "id": "ce3c0934-a94b-4d11-a097-259725d800b3",
   "metadata": {},
   "outputs": [
    {
     "data": {
      "text/plain": [
       "bytearray"
      ]
     },
     "execution_count": 11,
     "metadata": {},
     "output_type": "execute_result"
    }
   ],
   "source": [
    "type(aa)"
   ]
  },
  {
   "cell_type": "code",
   "execution_count": 7,
   "id": "b50e6a02-df9f-4331-8c82-aa66fcd788f8",
   "metadata": {},
   "outputs": [],
   "source": [
    "with open('test2.FCStd', 'wb') as f:\n",
    "    f.write(aa)"
   ]
  },
  {
   "cell_type": "code",
   "execution_count": null,
   "id": "8ef93528-7225-403c-9ad9-085477b032f6",
   "metadata": {},
   "outputs": [],
   "source": []
  },
  {
   "cell_type": "code",
   "execution_count": 1,
   "id": "eeab8669",
   "metadata": {},
   "outputs": [
    {
     "name": "stdout",
     "output_type": "stream",
     "text": [
      "PATH_TO_FREECAD_LIBDIR not specified, using default FreeCAD version in /home/trungle/miniconda3/envs/caddev/lib\n"
     ]
    }
   ],
   "source": [
    "import freecad as fc\n"
   ]
  },
  {
   "cell_type": "code",
   "execution_count": 2,
   "id": "9c6e73f7",
   "metadata": {},
   "outputs": [],
   "source": [
    "a = fc.app.openDocument('box3.FCStd')"
   ]
  },
  {
   "cell_type": "code",
   "execution_count": 3,
   "id": "14f7c4bd",
   "metadata": {},
   "outputs": [
    {
     "data": {
      "text/plain": [
       "[<Part::PartFeature>, <Part::PartFeature>]"
      ]
     },
     "execution_count": 3,
     "metadata": {},
     "output_type": "execute_result"
    }
   ],
   "source": [
    "a.Objects"
   ]
  },
  {
   "cell_type": "code",
   "execution_count": 4,
   "id": "c78e656c",
   "metadata": {},
   "outputs": [],
   "source": [
    "# box = a.getObject(\"myBox\")\n",
    "# box.Length = 4\n",
    "# box.Width = 4\n",
    "# box.Height = 22\n",
    "# a.recompute()\n",
    "# a.save()"
   ]
  },
  {
   "cell_type": "code",
   "execution_count": 5,
   "id": "a50229dd",
   "metadata": {},
   "outputs": [],
   "source": [
    "b = fc.app.Placement"
   ]
  },
  {
   "cell_type": "code",
   "execution_count": 6,
   "id": "3b4014b6",
   "metadata": {},
   "outputs": [],
   "source": [
    "o = a.Objects[1]"
   ]
  },
  {
   "cell_type": "code",
   "execution_count": 7,
   "id": "d6d02f6a",
   "metadata": {},
   "outputs": [
    {
     "data": {
      "text/plain": [
       "Base.Placement"
      ]
     },
     "execution_count": 7,
     "metadata": {},
     "output_type": "execute_result"
    }
   ],
   "source": [
    "b"
   ]
  },
  {
   "cell_type": "code",
   "execution_count": 8,
   "id": "7588b031",
   "metadata": {},
   "outputs": [
    {
     "data": {
      "text/plain": [
       "22.0"
      ]
     },
     "execution_count": 8,
     "metadata": {},
     "output_type": "execute_result"
    }
   ],
   "source": [
    "o.Height.Value"
   ]
  },
  {
   "cell_type": "code",
   "execution_count": 9,
   "id": "584290b6",
   "metadata": {},
   "outputs": [],
   "source": [
    "c = a.getObject('Box')"
   ]
  },
  {
   "cell_type": "code",
   "execution_count": 10,
   "id": "333c2c24",
   "metadata": {},
   "outputs": [
    {
     "data": {
      "text/plain": [
       "Placement [Pos=(1,2,3), Yaw-Pitch-Roll=(0.888629,1.14071,-0.245797)]"
      ]
     },
     "execution_count": 10,
     "metadata": {},
     "output_type": "execute_result"
    }
   ],
   "source": [
    "o.Placement"
   ]
  },
  {
   "cell_type": "code",
   "execution_count": 11,
   "id": "10ba830f",
   "metadata": {},
   "outputs": [
    {
     "data": {
      "text/plain": [
       "22.0 mm"
      ]
     },
     "execution_count": 11,
     "metadata": {},
     "output_type": "execute_result"
    }
   ],
   "source": [
    "o.Height"
   ]
  },
  {
   "cell_type": "code",
   "execution_count": 12,
   "id": "73ffeefb",
   "metadata": {},
   "outputs": [],
   "source": [
    "p = o.Placement"
   ]
  },
  {
   "cell_type": "code",
   "execution_count": 16,
   "id": "1177d2cd",
   "metadata": {},
   "outputs": [
    {
     "data": {
      "text/plain": [
       "0.025624999717675324"
      ]
     },
     "execution_count": 16,
     "metadata": {},
     "output_type": "execute_result"
    }
   ],
   "source": [
    "p.Rotation.Angle"
   ]
  },
  {
   "cell_type": "code",
   "execution_count": 14,
   "id": "82bab3e8",
   "metadata": {},
   "outputs": [
    {
     "data": {
      "text/plain": [
       "['Base',\n",
       " 'Matrix',\n",
       " 'Rotation',\n",
       " '__abs__',\n",
       " '__add__',\n",
       " '__and__',\n",
       " '__bool__',\n",
       " '__class__',\n",
       " '__delattr__',\n",
       " '__dir__',\n",
       " '__divmod__',\n",
       " '__doc__',\n",
       " '__eq__',\n",
       " '__float__',\n",
       " '__format__',\n",
       " '__ge__',\n",
       " '__getattribute__',\n",
       " '__gt__',\n",
       " '__hash__',\n",
       " '__init__',\n",
       " '__init_subclass__',\n",
       " '__int__',\n",
       " '__invert__',\n",
       " '__le__',\n",
       " '__lshift__',\n",
       " '__lt__',\n",
       " '__mod__',\n",
       " '__mul__',\n",
       " '__ne__',\n",
       " '__neg__',\n",
       " '__new__',\n",
       " '__or__',\n",
       " '__pos__',\n",
       " '__pow__',\n",
       " '__radd__',\n",
       " '__rand__',\n",
       " '__rdivmod__',\n",
       " '__reduce__',\n",
       " '__reduce_ex__',\n",
       " '__repr__',\n",
       " '__rlshift__',\n",
       " '__rmod__',\n",
       " '__rmul__',\n",
       " '__ror__',\n",
       " '__rpow__',\n",
       " '__rrshift__',\n",
       " '__rshift__',\n",
       " '__rsub__',\n",
       " '__rtruediv__',\n",
       " '__rxor__',\n",
       " '__setattr__',\n",
       " '__sizeof__',\n",
       " '__str__',\n",
       " '__sub__',\n",
       " '__subclasshook__',\n",
       " '__truediv__',\n",
       " '__xor__',\n",
       " 'copy',\n",
       " 'inverse',\n",
       " 'isIdentity',\n",
       " 'move',\n",
       " 'multVec',\n",
       " 'multiply',\n",
       " 'pow',\n",
       " 'rotate',\n",
       " 'sclerp',\n",
       " 'slerp',\n",
       " 'toMatrix',\n",
       " 'translate']"
      ]
     },
     "execution_count": 14,
     "metadata": {},
     "output_type": "execute_result"
    }
   ],
   "source": [
    "dir(p)"
   ]
  },
  {
   "cell_type": "code",
   "execution_count": 13,
   "id": "fd5255a7",
   "metadata": {},
   "outputs": [],
   "source": [
    "a.Objects.clear()"
   ]
  },
  {
   "cell_type": "code",
   "execution_count": 20,
   "id": "5d3182d2",
   "metadata": {},
   "outputs": [
    {
     "ename": "TypeError",
     "evalue": "function takes exactly 1 argument (0 given)",
     "output_type": "error",
     "traceback": [
      "\u001b[0;31m---------------------------------------------------------------------------\u001b[0m",
      "\u001b[0;31mTypeError\u001b[0m                                 Traceback (most recent call last)",
      "Input \u001b[0;32mIn [20]\u001b[0m, in \u001b[0;36m<cell line: 1>\u001b[0;34m()\u001b[0m\n\u001b[0;32m----> 1\u001b[0m \u001b[43ma\u001b[49m\u001b[38;5;241;43m.\u001b[39;49m\u001b[43mremoveObject\u001b[49m\u001b[43m(\u001b[49m\u001b[43m)\u001b[49m\n",
      "\u001b[0;31mTypeError\u001b[0m: function takes exactly 1 argument (0 given)"
     ]
    }
   ],
   "source": [
    "a.removeObject()"
   ]
  },
  {
   "cell_type": "code",
   "execution_count": 18,
   "id": "47ad38fb",
   "metadata": {},
   "outputs": [
    {
     "data": {
      "text/plain": [
       "['ActiveObject',\n",
       " 'Comment',\n",
       " 'Company',\n",
       " 'Content',\n",
       " 'CreatedBy',\n",
       " 'CreationDate',\n",
       " 'DependencyGraph',\n",
       " 'FileName',\n",
       " 'HasPendingTransaction',\n",
       " 'Id',\n",
       " 'Importing',\n",
       " 'InList',\n",
       " 'Label',\n",
       " 'LastModifiedBy',\n",
       " 'LastModifiedDate',\n",
       " 'License',\n",
       " 'LicenseURL',\n",
       " 'Material',\n",
       " 'MemSize',\n",
       " 'Meta',\n",
       " 'Module',\n",
       " 'Name',\n",
       " 'Objects',\n",
       " 'OldLabel',\n",
       " 'OutList',\n",
       " 'Partial',\n",
       " 'PropertiesList',\n",
       " 'RecomputesFrozen',\n",
       " 'Recomputing',\n",
       " 'RedoCount',\n",
       " 'RedoNames',\n",
       " 'Restoring',\n",
       " 'RootObjects',\n",
       " 'ShowHidden',\n",
       " 'Temporary',\n",
       " 'Tip',\n",
       " 'TipName',\n",
       " 'TopologicalSortedObjects',\n",
       " 'Transacting',\n",
       " 'TransientDir',\n",
       " 'TypeId',\n",
       " 'Uid',\n",
       " 'UndoCount',\n",
       " 'UndoMode',\n",
       " 'UndoNames',\n",
       " 'UndoRedoMemSize',\n",
       " '__class__',\n",
       " '__delattr__',\n",
       " '__dir__',\n",
       " '__doc__',\n",
       " '__eq__',\n",
       " '__format__',\n",
       " '__ge__',\n",
       " '__getattribute__',\n",
       " '__gt__',\n",
       " '__hash__',\n",
       " '__init__',\n",
       " '__init_subclass__',\n",
       " '__le__',\n",
       " '__lt__',\n",
       " '__ne__',\n",
       " '__new__',\n",
       " '__reduce__',\n",
       " '__reduce_ex__',\n",
       " '__repr__',\n",
       " '__setattr__',\n",
       " '__sizeof__',\n",
       " '__str__',\n",
       " '__subclasshook__',\n",
       " 'abortTransaction',\n",
       " 'addObject',\n",
       " 'clearDocument',\n",
       " 'clearUndos',\n",
       " 'commitTransaction',\n",
       " 'copyObject',\n",
       " 'dumpContent',\n",
       " 'dumpPropertyContent',\n",
       " 'exportGraphviz',\n",
       " 'findObjects',\n",
       " 'getAllDerivedFrom',\n",
       " 'getDependentDocuments',\n",
       " 'getDocumentationOfProperty',\n",
       " 'getEditorMode',\n",
       " 'getEnumerationsOfProperty',\n",
       " 'getFileName',\n",
       " 'getGroupOfProperty',\n",
       " 'getLinksTo',\n",
       " 'getObject',\n",
       " 'getObjectsByLabel',\n",
       " 'getProgramVersion',\n",
       " 'getPropertyByName',\n",
       " 'getPropertyStatus',\n",
       " 'getPropertyTouchList',\n",
       " 'getTempFileName',\n",
       " 'getTypeIdOfProperty',\n",
       " 'getTypeOfProperty',\n",
       " 'importLinks',\n",
       " 'isClosable',\n",
       " 'isDerivedFrom',\n",
       " 'isSaved',\n",
       " 'isTouched',\n",
       " 'load',\n",
       " 'mergeProject',\n",
       " 'moveObject',\n",
       " 'mustExecute',\n",
       " 'openTransaction',\n",
       " 'purgeTouched',\n",
       " 'recompute',\n",
       " 'redo',\n",
       " 'removeObject',\n",
       " 'restore',\n",
       " 'restoreContent',\n",
       " 'restorePropertyContent',\n",
       " 'save',\n",
       " 'saveAs',\n",
       " 'saveCopy',\n",
       " 'setClosable',\n",
       " 'setDocumentationOfProperty',\n",
       " 'setEditorMode',\n",
       " 'setGroupOfProperty',\n",
       " 'setPropertyStatus',\n",
       " 'supportedTypes',\n",
       " 'undo']"
      ]
     },
     "execution_count": 18,
     "metadata": {},
     "output_type": "execute_result"
    }
   ],
   "source": [
    "dir(a)"
   ]
  },
  {
   "cell_type": "code",
   "execution_count": 6,
   "id": "2e6f3c6a",
   "metadata": {},
   "outputs": [],
   "source": [
    "aa = a.dumpContent()"
   ]
  },
  {
   "cell_type": "code",
   "execution_count": 11,
   "id": "04d19e48",
   "metadata": {},
   "outputs": [
    {
     "data": {
      "text/plain": [
       "bytearray"
      ]
     },
     "execution_count": 11,
     "metadata": {},
     "output_type": "execute_result"
    }
   ],
   "source": [
    "type(aa)"
   ]
  },
  {
   "cell_type": "code",
   "execution_count": 7,
   "id": "eacffc96",
   "metadata": {},
   "outputs": [],
   "source": [
    "with open('test2.FCStd', 'wb') as f:\n",
    "    f.write(aa)"
   ]
  },
  {
   "cell_type": "code",
   "execution_count": 1,
   "id": "e57b6403",
   "metadata": {},
   "outputs": [],
   "source": [
    "from jupytercad.freecad import props as Props"
   ]
  },
  {
   "cell_type": "code",
   "execution_count": 9,
   "id": "8c31f3b9-5530-4678-8799-bece9a937025",
   "metadata": {},
   "outputs": [
    {
     "name": "stdout",
     "output_type": "stream",
     "text": [
      "Cls <class 'jupytercad.freecad.props.property_length.App_PropertyLength'> App::PropertyLength\n"
     ]
    }
   ],
   "source": [
    "for Cls in Props.__dict__.values():\n",
    "    if isinstance(Cls, type):\n",
    "        print('Cls', Cls, Cls.name())"
   ]
  },
  {
   "cell_type": "code",
   "execution_count": 6,
   "id": "1dcb6c71-087a-4e08-9488-65e8493a471b",
   "metadata": {},
   "outputs": [
    {
     "data": {
      "text/plain": [
       "{'App_PropertyLength': jupytercad.freecad.props.property_length.App_PropertyLength}"
      ]
     },
     "execution_count": 6,
     "metadata": {},
     "output_type": "execute_result"
    }
   ],
   "source": [
    "dict([(name, cls) for name, cls in Props.__dict__.items() if isinstance(cls, type)])"
   ]
  },
  {
   "cell_type": "code",
   "execution_count": null,
   "id": "86ab6cf9-81f2-441e-a946-51db5132cd0b",
   "metadata": {},
   "outputs": [],
   "source": []
  }
 ],
 "metadata": {
  "kernelspec": {
   "display_name": "Python 3 (ipykernel)",
   "language": "python",
   "name": "python3"
  },
  "language_info": {
   "codemirror_mode": {
    "name": "ipython",
    "version": 3
   },
   "file_extension": ".py",
   "mimetype": "text/x-python",
   "name": "python",
   "nbconvert_exporter": "python",
   "pygments_lexer": "ipython3",
   "version": "3.10.6"
  }
 },
 "nbformat": 4,
 "nbformat_minor": 5
}
