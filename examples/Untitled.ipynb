{
 "cells": [
  {
   "cell_type": "code",
   "execution_count": 2,
   "id": "96c20bfe-9231-445d-94e3-f3122f73e6a3",
   "metadata": {},
   "outputs": [
    {
     "name": "stdout",
     "output_type": "stream",
     "text": [
      "PATH_TO_FREECAD_LIBDIR not specified, using default FreeCAD version in /home/trungle/miniconda3/envs/caddev/lib\n"
     ]
    }
   ],
   "source": [
    "import freecad as fc"
   ]
  },
  {
   "cell_type": "code",
   "execution_count": 8,
   "id": "9735d10d-0207-44db-95a8-292588f69498",
   "metadata": {},
   "outputs": [],
   "source": [
    "a = fc.app.openDocument('/tmp/tmpf033u8xt.FCStd')"
   ]
  },
  {
   "cell_type": "code",
   "execution_count": 4,
   "id": "d45b40cd-af87-44c8-9bed-2df9ebcb2b84",
   "metadata": {},
   "outputs": [
    {
     "data": {
      "text/plain": [
       "<Document object at 0x561258320fe0>"
      ]
     },
     "execution_count": 4,
     "metadata": {},
     "output_type": "execute_result"
    }
   ],
   "source": [
    "a"
   ]
  },
  {
   "cell_type": "code",
   "execution_count": 5,
   "id": "9d8829af-9645-4410-8441-039949ed7368",
   "metadata": {},
   "outputs": [
    {
     "data": {
      "text/plain": [
       "['ActiveObject',\n",
       " 'Comment',\n",
       " 'Company',\n",
       " 'Content',\n",
       " 'CreatedBy',\n",
       " 'CreationDate',\n",
       " 'DependencyGraph',\n",
       " 'FileName',\n",
       " 'HasPendingTransaction',\n",
       " 'Id',\n",
       " 'Importing',\n",
       " 'InList',\n",
       " 'Label',\n",
       " 'LastModifiedBy',\n",
       " 'LastModifiedDate',\n",
       " 'License',\n",
       " 'LicenseURL',\n",
       " 'Material',\n",
       " 'MemSize',\n",
       " 'Meta',\n",
       " 'Module',\n",
       " 'Name',\n",
       " 'Objects',\n",
       " 'OldLabel',\n",
       " 'OutList',\n",
       " 'Partial',\n",
       " 'PropertiesList',\n",
       " 'RecomputesFrozen',\n",
       " 'Recomputing',\n",
       " 'RedoCount',\n",
       " 'RedoNames',\n",
       " 'Restoring',\n",
       " 'RootObjects',\n",
       " 'ShowHidden',\n",
       " 'Temporary',\n",
       " 'Tip',\n",
       " 'TipName',\n",
       " 'TopologicalSortedObjects',\n",
       " 'Transacting',\n",
       " 'TransientDir',\n",
       " 'TypeId',\n",
       " 'Uid',\n",
       " 'UndoCount',\n",
       " 'UndoMode',\n",
       " 'UndoNames',\n",
       " 'UndoRedoMemSize',\n",
       " '__class__',\n",
       " '__delattr__',\n",
       " '__dir__',\n",
       " '__doc__',\n",
       " '__eq__',\n",
       " '__format__',\n",
       " '__ge__',\n",
       " '__getattribute__',\n",
       " '__gt__',\n",
       " '__hash__',\n",
       " '__init__',\n",
       " '__init_subclass__',\n",
       " '__le__',\n",
       " '__lt__',\n",
       " '__ne__',\n",
       " '__new__',\n",
       " '__reduce__',\n",
       " '__reduce_ex__',\n",
       " '__repr__',\n",
       " '__setattr__',\n",
       " '__sizeof__',\n",
       " '__str__',\n",
       " '__subclasshook__',\n",
       " 'abortTransaction',\n",
       " 'addObject',\n",
       " 'clearDocument',\n",
       " 'clearUndos',\n",
       " 'commitTransaction',\n",
       " 'copyObject',\n",
       " 'dumpContent',\n",
       " 'dumpPropertyContent',\n",
       " 'exportGraphviz',\n",
       " 'findObjects',\n",
       " 'getAllDerivedFrom',\n",
       " 'getDependentDocuments',\n",
       " 'getDocumentationOfProperty',\n",
       " 'getEditorMode',\n",
       " 'getEnumerationsOfProperty',\n",
       " 'getFileName',\n",
       " 'getGroupOfProperty',\n",
       " 'getLinksTo',\n",
       " 'getObject',\n",
       " 'getObjectsByLabel',\n",
       " 'getProgramVersion',\n",
       " 'getPropertyByName',\n",
       " 'getPropertyStatus',\n",
       " 'getPropertyTouchList',\n",
       " 'getTempFileName',\n",
       " 'getTypeIdOfProperty',\n",
       " 'getTypeOfProperty',\n",
       " 'importLinks',\n",
       " 'isClosable',\n",
       " 'isDerivedFrom',\n",
       " 'isSaved',\n",
       " 'isTouched',\n",
       " 'load',\n",
       " 'mergeProject',\n",
       " 'moveObject',\n",
       " 'mustExecute',\n",
       " 'openTransaction',\n",
       " 'purgeTouched',\n",
       " 'recompute',\n",
       " 'redo',\n",
       " 'removeObject',\n",
       " 'restore',\n",
       " 'restoreContent',\n",
       " 'restorePropertyContent',\n",
       " 'save',\n",
       " 'saveAs',\n",
       " 'saveCopy',\n",
       " 'setClosable',\n",
       " 'setDocumentationOfProperty',\n",
       " 'setEditorMode',\n",
       " 'setGroupOfProperty',\n",
       " 'setPropertyStatus',\n",
       " 'supportedTypes',\n",
       " 'undo']"
      ]
     },
     "execution_count": 5,
     "metadata": {},
     "output_type": "execute_result"
    }
   ],
   "source": [
    "dir(a)"
   ]
  },
  {
   "cell_type": "code",
   "execution_count": 4,
   "id": "b5ce3faa-4f61-4ecc-b140-609c897be649",
   "metadata": {},
   "outputs": [],
   "source": [
    "o = a.Objects[0]"
   ]
  },
  {
   "cell_type": "code",
   "execution_count": 9,
   "id": "c5c0f10b-97bd-4eed-897e-9f25e9d7164a",
   "metadata": {},
   "outputs": [
    {
     "data": {
      "text/plain": [
       "['Hidden']"
      ]
     },
     "execution_count": 9,
     "metadata": {},
     "output_type": "execute_result"
    }
   ],
   "source": [
    "o.getTypeOfProperty('ExpressionEngine')"
   ]
  },
  {
   "cell_type": "code",
   "execution_count": 6,
   "id": "dcdaf6ba-f5e7-44a5-8fa5-eb7d1bb89173",
   "metadata": {},
   "outputs": [
    {
     "data": {
      "text/plain": [
       "['AttacherType',\n",
       " 'AttachmentOffset',\n",
       " 'ExpressionEngine',\n",
       " 'Height',\n",
       " 'Label',\n",
       " 'Label2',\n",
       " 'Length',\n",
       " 'MapMode',\n",
       " 'MapPathParameter',\n",
       " 'MapReversed',\n",
       " 'Placement',\n",
       " 'Shape',\n",
       " 'Support',\n",
       " 'Visibility',\n",
       " 'Width']"
      ]
     },
     "execution_count": 6,
     "metadata": {},
     "output_type": "execute_result"
    }
   ],
   "source": [
    "o.PropertiesList"
   ]
  },
  {
   "cell_type": "code",
   "execution_count": null,
   "id": "23a895b7-747c-4fdd-8e81-ad44d783bb1f",
   "metadata": {},
   "outputs": [],
   "source": []
  }
 ],
 "metadata": {
  "kernelspec": {
   "display_name": "Python 3 (ipykernel)",
   "language": "python",
   "name": "python3"
  },
  "language_info": {
   "codemirror_mode": {
    "name": "ipython",
    "version": 3
   },
   "file_extension": ".py",
   "mimetype": "text/x-python",
   "name": "python",
   "nbconvert_exporter": "python",
   "pygments_lexer": "ipython3",
   "version": "3.10.6"
  }
 },
 "nbformat": 4,
 "nbformat_minor": 5
}
