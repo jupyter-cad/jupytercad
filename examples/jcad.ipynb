{
 "cells": [
  {
   "cell_type": "code",
   "execution_count": null,
   "metadata": {
    "vscode": {
     "languageId": "plaintext"
    }
   },
   "outputs": [],
   "source": [
    "from jupytercad import CadDocument\n",
    "doc = CadDocument()\n",
    "doc.add_cone().add_sphere(radius=0.8).cut(color='#ff0000')"
   ]
  }
 ],
 "metadata": {
  "language_info": {
   "name": "python"
  }
 },
 "nbformat": 4,
 "nbformat_minor": 2
}
