{
 "cells": [
  {
   "cell_type": "markdown",
   "id": "1b5296d7-deca-4359-a786-f47aae3306b7",
   "metadata": {},
   "source": [
    "### Create a shape from the Open Cascade Python API"
   ]
  },
  {
   "cell_type": "code",
   "execution_count": null,
   "id": "c5104716-9ab3-43bb-a51c-72839264af8a",
   "metadata": {},
   "outputs": [],
   "source": [
    "from OCC.Core.BRepPrimAPI import BRepPrimAPI_MakeBox\n",
    "\n",
    "from jupytercad import CadDocument\n",
    "\n",
    "doc = CadDocument()\n",
    "\n",
    "box_shape = BRepPrimAPI_MakeBox(10, 20, 30).Shape()\n",
    "\n",
    "doc.add_occ_shape(box_shape)\n",
    "\n",
    "doc"
   ]
  },
  {
   "cell_type": "code",
   "execution_count": null,
   "id": "f9e68531-e53e-4265-bff8-ef9e8191b384",
   "metadata": {},
   "outputs": [],
   "source": [
    "from OCC.Extend.DataExchange import read_stl_file\n",
    "\n",
    "wheel = read_stl_file(\"fan.stl\")\n",
    "\n",
    "from jupytercad import CadDocument\n",
    "\n",
    "doc = CadDocument()\n",
    "\n",
    "doc.add_occ_shape(wheel)\n",
    "\n",
    "doc"
   ]
  }
 ],
 "metadata": {
  "kernelspec": {
   "display_name": "Python 3 (ipykernel)",
   "language": "python",
   "name": "python3"
  },
  "language_info": {
   "codemirror_mode": {
    "name": "ipython",
    "version": 3
   },
   "file_extension": ".py",
   "mimetype": "text/x-python",
   "name": "python",
   "nbconvert_exporter": "python",
   "pygments_lexer": "ipython3",
   "version": "3.12.0"
  }
 },
 "nbformat": 4,
 "nbformat_minor": 5
}
