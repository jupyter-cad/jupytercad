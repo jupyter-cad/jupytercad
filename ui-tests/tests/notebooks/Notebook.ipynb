{
 "cells": [
  {
   "cell_type": "code",
   "execution_count": null,
   "id": "d0f18a1a-7eda-4387-a2a3-ed0530c82548",
   "metadata": {},
   "outputs": [],
   "source": [
    "from jupytercad import CadDocument\n",
    "\n",
    "doc = CadDocument()\n",
    "\n",
    "doc.add_cone().add_sphere(radius=0.8, position=[0, 0, 1]).cut()"
   ]
  },
  {
   "cell_type": "code",
   "execution_count": null,
   "id": "aca82e6a-7718-4b1e-b762-9fc62b95fae4",
   "metadata": {},
   "outputs": [],
   "source": [
    "doc.objects"
   ]
  },
  {
   "cell_type": "code",
   "execution_count": null,
   "id": "802e38ad-ee7c-4c81-8fed-805abf09a4df",
   "metadata": {},
   "outputs": [],
   "source": [
    "# Creating a gear wheel \n",
    "from jupytercad import CadDocument\n",
    "import math\n",
    "\n",
    "doc = CadDocument()\n",
    "\n",
    "radius = 5\n",
    "num_teeth = 3\n",
    "tooth_width = 0.5\n",
    "\n",
    "# Create the gear wheel body\n",
    "body_radius = radius - tooth_width / 2\n",
    "body_height = tooth_width\n",
    "doc.add_cylinder(radius=body_radius, height=body_height)\n",
    "\n",
    "# Create the teeth\n",
    "tooth_angle = 2 * math.pi / num_teeth\n",
    "for i in range(num_teeth):\n",
    "    angle = i * tooth_angle\n",
    "    doc.add_box(\n",
    "        length=tooth_width, \n",
    "        width=tooth_width,\n",
    "        height=body_height,\n",
    "        position=[(radius - tooth_width) * math.cos(angle), (radius - tooth_width) * math.sin(angle), 0], \n",
    "        rotation_axis=[0, 0, 1], \n",
    "        rotation_angle=angle * 180/math.pi\n",
    "    ).cut()\n",
    "\n",
    "# Create the central hole\n",
    "hole_radius = radius * 0.3\n",
    "hole_height = body_height\n",
    "doc.add_cylinder(radius=hole_radius, height=hole_height).cut()\n",
    "doc"
   ]
  },
  {
   "cell_type": "code",
   "execution_count": null,
   "id": "9f587854-329d-41b4-8c61-7fc1bf930811",
   "metadata": {},
   "outputs": [],
   "source": [
    "from OCC.Core.BRepPrimAPI import BRepPrimAPI_MakeBox, BRepPrimAPI_MakeSphere, BRepPrimAPI_MakeCylinder\n",
    "from OCC.Core.gp import gp_Pnt\n",
    "\n",
    "from jupytercad import CadDocument\n",
    "\n",
    "doc = CadDocument()\n",
    "\n",
    "box_shape = BRepPrimAPI_MakeBox(10, 20, 30).Shape()\n",
    "\n",
    "doc.add_occ_shape(box_shape)\n",
    "\n",
    "doc"
   ]
  }
 ],
 "metadata": {
  "kernelspec": {
   "display_name": "Python 3 (ipykernel)",
   "language": "python",
   "name": "python3"
  },
  "language_info": {
   "codemirror_mode": {
    "name": "ipython",
    "version": 3
   },
   "file_extension": ".py",
   "mimetype": "text/x-python",
   "name": "python",
   "nbconvert_exporter": "python",
   "pygments_lexer": "ipython3",
   "version": "3.10.11"
  }
 },
 "nbformat": 4,
 "nbformat_minor": 5
}
